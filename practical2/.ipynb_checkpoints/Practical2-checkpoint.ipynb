{
 "cells": [
  {
   "cell_type": "code",
   "execution_count": null,
   "metadata": {
    "collapsed": false
   },
   "outputs": [],
   "source": [
    "import tensorflow as tf\n",
    "import pandas as pd\n",
    "import numpy as np\n",
    "import tempfile\n",
    "import matplotlib.pyplot as plt"
   ]
  },
  {
   "cell_type": "markdown",
   "metadata": {},
   "source": [
    "-- The below data are from an example in Schaum's Outline:\n",
    "-- Dominick Salvator and Derrick Reagle\n",
    "-- Shaum's Outline of Theory and Problems of Statistics and Economics\n",
    "-- 2nd edition\n",
    "-- McGraw-Hill\n",
    "-- 2002\n",
    "\n",
    "-- The data relate the amount of corn produced, given certain amounts\n",
    "-- of fertilizer and insecticide. See p 157 of the text.\n",
    "\n",
    "-- In this example, we want to be able to predict the amount of\n",
    "-- corn produced, given the amount of fertilizer and insecticide used.\n",
    "-- In other words: fertilizer & insecticide are our two input variables,\n",
    "-- and corn is our target value.\n",
    "\n",
    "--  {corn, fertilizer, insecticide}"
   ]
  },
  {
   "cell_type": "code",
   "execution_count": null,
   "metadata": {
    "collapsed": true
   },
   "outputs": [],
   "source": [
    "data = [\n",
    "    [40,  6,  4],\n",
    "    [44, 10,  4],\n",
    "    [46, 12,  5],\n",
    "    [48, 14,  7],\n",
    "    [52, 16,  9],\n",
    "    [58, 18, 12],\n",
    "    [60, 22, 14],\n",
    "    [68, 24, 20],\n",
    "    [74, 26, 21],\n",
    "    [80, 32, 24]\n",
    "]"
   ]
  },
  {
   "cell_type": "code",
   "execution_count": null,
   "metadata": {
    "collapsed": true
   },
   "outputs": [],
   "source": [
    "df = pd.DataFrame(data, columns = ['corn','fertilizer','insecticide'])"
   ]
  },
  {
   "cell_type": "code",
   "execution_count": null,
   "metadata": {
    "collapsed": true
   },
   "outputs": [],
   "source": [
    "mask = np.random.rand(len(df)) < 0.8\n",
    "df_train = df[mask]\n",
    "df_test = df[~mask]"
   ]
  },
  {
   "cell_type": "code",
   "execution_count": null,
   "metadata": {
    "collapsed": true
   },
   "outputs": [],
   "source": [
    "RESPONSE = ['corn']\n",
    "CONTINUOUS = ['fertilizer','insecticide']\n",
    "CATEGORICAL = []"
   ]
  },
  {
   "cell_type": "code",
   "execution_count": null,
   "metadata": {
    "collapsed": true
   },
   "outputs": [],
   "source": [
    "def input_fn(df):\n",
    "    # Creates a dictionary mapping from each continuous feature column name (k) to\n",
    "    # the values of that column stored in a constant Tensor.\n",
    "    continuous_cols = {k: tf.constant(df[k].values,dtype=tf.float32)\n",
    "                     for k in CONTINUOUS}\n",
    "    # Creates a dictionary mapping from each categorical feature column name (k)\n",
    "    # to the values of that column stored in a tf.SparseTensor.\n",
    "    categorical_cols = {k: tf.SparseTensor(\n",
    "      indices=[[i, 0] for i in range(df[k].size)],\n",
    "      values=df[k].values,\n",
    "      shape=[df[k].size, 1])\n",
    "                      for k in CATEGORICAL}\n",
    "    # Merges the two dictionaries into one.\n",
    "    feature_cols = {**continuous_cols, **categorical_cols}\n",
    "    # Converts the label column into a constant Tensor.\n",
    "    response = tf.constant(df[RESPONSE].values,dtype=tf.float32)\n",
    "    # Returns the feature columns and the label.\n",
    "    return feature_cols, response\n",
    "\n",
    "def train_input_fn():\n",
    "    return input_fn(df_train)\n",
    "\n",
    "def eval_input_fn():\n",
    "    return input_fn(df_test)"
   ]
  },
  {
   "cell_type": "markdown",
   "metadata": {},
   "source": [
    "# High-level implementation using tf.contrib:"
   ]
  },
  {
   "cell_type": "code",
   "execution_count": null,
   "metadata": {
    "collapsed": true
   },
   "outputs": [],
   "source": [
    "fertilizer = tf.contrib.layers.real_valued_column('fertilizer')\n",
    "insecticide = tf.contrib.layers.real_valued_column('insecticide')"
   ]
  },
  {
   "cell_type": "code",
   "execution_count": null,
   "metadata": {
    "collapsed": false
   },
   "outputs": [],
   "source": [
    "model_dir = tempfile.mkdtemp()\n",
    "m = tf.contrib.learn.LinearRegressor(\n",
    "    feature_columns=[\n",
    "        fertilizer,insecticide\n",
    "    ],\n",
    "    model_dir = model_dir)"
   ]
  },
  {
   "cell_type": "code",
   "execution_count": null,
   "metadata": {
    "collapsed": false
   },
   "outputs": [],
   "source": [
    "m.fit(input_fn=train_input_fn,steps = 200.)"
   ]
  },
  {
   "cell_type": "code",
   "execution_count": null,
   "metadata": {
    "collapsed": false
   },
   "outputs": [],
   "source": [
    "results = m.evaluate(input_fn = eval_input_fn, steps = 1.)\n",
    "print(results)"
   ]
  },
  {
   "cell_type": "code",
   "execution_count": null,
   "metadata": {
    "collapsed": false
   },
   "outputs": [],
   "source": [
    "m_weights = [i[0][0] for i in m.weights_.values()]\n",
    "m_bias = m.bias_[0]"
   ]
  },
  {
   "cell_type": "code",
   "execution_count": null,
   "metadata": {
    "collapsed": false
   },
   "outputs": [],
   "source": [
    "print(m_weights)\n",
    "print(m_bias)"
   ]
  },
  {
   "cell_type": "markdown",
   "metadata": {},
   "source": [
    "# Now, digging deeper:"
   ]
  },
  {
   "cell_type": "code",
   "execution_count": null,
   "metadata": {
    "collapsed": true
   },
   "outputs": [],
   "source": [
    "graph = tf.Graph()"
   ]
  },
  {
   "cell_type": "code",
   "execution_count": null,
   "metadata": {
    "collapsed": false
   },
   "outputs": [],
   "source": [
    "sess = tf.InteractiveSession(graph=graph)"
   ]
  },
  {
   "cell_type": "code",
   "execution_count": null,
   "metadata": {
    "collapsed": false
   },
   "outputs": [],
   "source": [
    "train_resp = tf.constant(df_train[['corn']].values,shape=(len(df_train),1),dtype=tf.float32)\n",
    "train_ft = tf.constant(df_train.drop('corn', axis=1).values,dtype=tf.float32)"
   ]
  },
  {
   "cell_type": "code",
   "execution_count": null,
   "metadata": {
    "collapsed": false
   },
   "outputs": [],
   "source": [
    "test_resp = tf.constant(df_test[['corn']].values,shape=(len(df_test),1),dtype=tf.float32)\n",
    "test_ft = tf.constant(df_test.drop('corn', axis=1).values,dtype=tf.float32)"
   ]
  },
  {
   "cell_type": "markdown",
   "metadata": {},
   "source": [
    "#### Initializing placeholder for response & features; initializing variables for model parameters"
   ]
  },
  {
   "cell_type": "code",
   "execution_count": null,
   "metadata": {
    "collapsed": true
   },
   "outputs": [],
   "source": [
    "x = tf.placeholder(tf.float32,shape = [None,2])\n",
    "y_ = tf.placeholder(tf.float32,shape = [None,1])"
   ]
  },
  {
   "cell_type": "code",
   "execution_count": null,
   "metadata": {
    "collapsed": false
   },
   "outputs": [],
   "source": [
    "W1 = tf.Variable(tf.random_normal([1,2]),name='weights', trainable=True)\n",
    "b1 = tf.Variable(tf.zeros([1]),name='bias', trainable=True)"
   ]
  },
  {
   "cell_type": "code",
   "execution_count": null,
   "metadata": {
    "collapsed": false
   },
   "outputs": [],
   "source": [
    "sess.run(tf.global_variables_initializer())"
   ]
  },
  {
   "cell_type": "code",
   "execution_count": null,
   "metadata": {
    "collapsed": false
   },
   "outputs": [],
   "source": [
    "sess.run(tf.trainable_variables())"
   ]
  },
  {
   "cell_type": "markdown",
   "metadata": {},
   "source": [
    "#### Construct Linear Model"
   ]
  },
  {
   "cell_type": "code",
   "execution_count": null,
   "metadata": {
    "collapsed": false,
    "scrolled": false
   },
   "outputs": [],
   "source": [
    "model_y = tf.add(tf.matmul(x, tf.transpose(W1)), b1)"
   ]
  },
  {
   "cell_type": "markdown",
   "metadata": {},
   "source": [
    "#### Define L2 Loss"
   ]
  },
  {
   "cell_type": "code",
   "execution_count": null,
   "metadata": {
    "collapsed": false
   },
   "outputs": [],
   "source": [
    "criterion = tf.reduce_sum(tf.pow(model_y - y_, 2))/(2*len(train_resp.eval()))"
   ]
  },
  {
   "cell_type": "markdown",
   "metadata": {},
   "source": [
    "Sanity check..."
   ]
  },
  {
   "cell_type": "code",
   "execution_count": null,
   "metadata": {
    "collapsed": false,
    "scrolled": true
   },
   "outputs": [],
   "source": [
    "sess.run(criterion,feed_dict = {x:train_ft.eval(),y_:train_resp.eval()})"
   ]
  },
  {
   "cell_type": "markdown",
   "metadata": {},
   "source": [
    "#### Finding the gradient of the loss w.r.t. our parameters"
   ]
  },
  {
   "cell_type": "code",
   "execution_count": null,
   "metadata": {
    "collapsed": true
   },
   "outputs": [],
   "source": [
    "dl_dB = tf.gradients(criterion, [W1,b1])[0]"
   ]
  },
  {
   "cell_type": "markdown",
   "metadata": {},
   "source": [
    "Sanity check..."
   ]
  },
  {
   "cell_type": "code",
   "execution_count": null,
   "metadata": {
    "collapsed": false
   },
   "outputs": [],
   "source": [
    "sess.run(dl_dB,feed_dict = {x:train_ft.eval(),y_:train_resp.eval()})"
   ]
  },
  {
   "cell_type": "markdown",
   "metadata": {},
   "source": [
    "#### Finding the gradient of the loss w.r.t. the data"
   ]
  },
  {
   "cell_type": "code",
   "execution_count": null,
   "metadata": {
    "collapsed": false
   },
   "outputs": [],
   "source": [
    "dl_dx = tf.gradients(criterion,x)[0]"
   ]
  },
  {
   "cell_type": "markdown",
   "metadata": {},
   "source": [
    "Sanity check..."
   ]
  },
  {
   "cell_type": "code",
   "execution_count": null,
   "metadata": {
    "collapsed": false,
    "scrolled": true
   },
   "outputs": [],
   "source": [
    "sess.run(dl_dx,feed_dict = {x:train_ft.eval(),y_:train_resp.eval()})"
   ]
  },
  {
   "cell_type": "markdown",
   "metadata": {},
   "source": [
    "#### Adding update procedure to the graph"
   ]
  },
  {
   "cell_type": "code",
   "execution_count": null,
   "metadata": {
    "collapsed": false
   },
   "outputs": [],
   "source": [
    "learning_rate = 0.001\n",
    "training_iterations = 20000"
   ]
  },
  {
   "cell_type": "code",
   "execution_count": null,
   "metadata": {
    "collapsed": true
   },
   "outputs": [],
   "source": [
    "train_step = tf.train.GradientDescentOptimizer(learning_rate).minimize(criterion)"
   ]
  },
  {
   "cell_type": "markdown",
   "metadata": {},
   "source": [
    "#### Implementing SGD"
   ]
  },
  {
   "cell_type": "code",
   "execution_count": null,
   "metadata": {
    "collapsed": false,
    "scrolled": true
   },
   "outputs": [],
   "source": [
    "cost_tracker = pd.DataFrame([None,None,None],index = ['Iteration','Training Cost', 'Test Cost']).T.iloc[0:0,:]\n",
    "for i in range(training_iterations):\n",
    "    for j in range(len(train_ft.eval())):\n",
    "        sess.run(train_step,feed_dict = {x: train_ft.eval()[j,:].reshape(1,2), y_: train_resp.eval()[j,:].reshape(1,1)})\n",
    "    \n",
    "    if (i+1) % 50 == 0:\n",
    "        train_cost = sess.run(criterion, feed_dict = {x: train_ft.eval(), y_:train_resp.eval()})\n",
    "        test_cost = sess.run(criterion, feed_dict = {x: test_ft.eval(), y_:test_resp.eval()})\n",
    "        ct_row = pd.DataFrame([i+1,train_cost,test_cost],index = ['Iteration','Training Cost', 'Test Cost']).T\n",
    "        cost_tracker = cost_tracker.append(ct_row)\n",
    "        \n",
    "        print(\"Epoch:\", '%04d' % (i+1), \"training cost=\", \"{:.9f}\".format(train_cost),\n",
    "        \"W=\", sess.run(W1), \"b=\", sess.run(b1))\n",
    "        print(\"Epoch:\", '%04d' % (i+1), \"test cost=\", \"{:.9f}\".format(test_cost),\n",
    "        \"W=\", sess.run(W1), \"b=\", sess.run(b1))"
   ]
  },
  {
   "cell_type": "markdown",
   "metadata": {},
   "source": [
    "#### Visualizing Gradient Descent"
   ]
  },
  {
   "cell_type": "code",
   "execution_count": null,
   "metadata": {
    "collapsed": false
   },
   "outputs": [],
   "source": [
    "plt.plot(cost_tracker['Iteration'],cost_tracker['Training Cost'])\n",
    "plt.plot(cost_tracker['Iteration'],cost_tracker['Test Cost'])\n",
    "plt.show()"
   ]
  },
  {
   "cell_type": "markdown",
   "metadata": {},
   "source": [
    "#### Implementing Batch GD"
   ]
  },
  {
   "cell_type": "code",
   "execution_count": null,
   "metadata": {
    "collapsed": false
   },
   "outputs": [],
   "source": [
    "# for i in range(training_iterations):\n",
    "#     for (X, y) in zip(train_ft.eval(),train_resp.eval()):\n",
    "#         sess.run(train_step,feed_dict = [x: X.reshape(1,2), y_: y.reshape(1,1)})\n",
    "    \n",
    "#     if (i+1) % 50 == 0:\n",
    "#         c = sess.run(criterion, feed_dict=[x: train_ft.eval(), y_:train_resp.eval()})\n",
    "#         print(\"Epoch:\", '%04d' % (training_iterations+1), \"cost=\", \"[:.9f}\".format(c),\n",
    "#         \"W=\", sess.run(W1), \"b=\", sess.run(b1))"
   ]
  },
  {
   "cell_type": "code",
   "execution_count": null,
   "metadata": {
    "collapsed": false
   },
   "outputs": [],
   "source": [
    "for (X, y) in zip(train_ft.eval(),train_resp.eval()):\n",
    "    print(sess.run(criterion,feed_dict = {x: X.reshape(1,2), y_: y.reshape(1,1)}))"
   ]
  },
  {
   "cell_type": "code",
   "execution_count": null,
   "metadata": {
    "collapsed": false
   },
   "outputs": [],
   "source": [
    "plt.plot(train_ft.eval()[:,0], train_resp.eval(), 'ro', label='Original data')\n",
    "plt.plot(train_ft.eval()[:,0], sess.run(W1)[:,0] * train_ft.eval()[:,0] + sess.run(b1), label='Fitted line')\n",
    "plt.legend()\n",
    "plt.show()"
   ]
  },
  {
   "cell_type": "code",
   "execution_count": null,
   "metadata": {
    "collapsed": false
   },
   "outputs": [],
   "source": [
    "print(sess.run(model_y, feed_dict = {x: test_ft.eval()}),test_resp.eval())"
   ]
  },
  {
   "cell_type": "code",
   "execution_count": null,
   "metadata": {
    "collapsed": false
   },
   "outputs": [],
   "source": [
    "test_ft.eval()"
   ]
  },
  {
   "cell_type": "code",
   "execution_count": null,
   "metadata": {
    "collapsed": false
   },
   "outputs": [],
   "source": [
    "sess.run(criterion, feed_dict = {x: test_ft.eval(),y_:test_resp.eval()})"
   ]
  },
  {
   "cell_type": "markdown",
   "metadata": {},
   "source": [
    "#### 2. Some new observations"
   ]
  },
  {
   "cell_type": "code",
   "execution_count": null,
   "metadata": {
    "collapsed": true
   },
   "outputs": [],
   "source": [
    "new_data = [\n",
    "    [6, 4],\n",
    "    [10, 5],\n",
    "    [14, 8]\n",
    "]"
   ]
  },
  {
   "cell_type": "code",
   "execution_count": null,
   "metadata": {
    "collapsed": false
   },
   "outputs": [],
   "source": [
    "sess.run(model_y, feed_dict = {x: new_data})"
   ]
  },
  {
   "cell_type": "markdown",
   "metadata": {},
   "source": [
    "#### Implementing the least squares solution"
   ]
  },
  {
   "cell_type": "code",
   "execution_count": null,
   "metadata": {
    "collapsed": true
   },
   "outputs": [],
   "source": [
    "ls_B_1 = tf.matrix_inverse(\n",
    "    tf.matmul(tf.transpose(train_ft),train_ft)\n",
    "    )"
   ]
  },
  {
   "cell_type": "code",
   "execution_count": null,
   "metadata": {
    "collapsed": true
   },
   "outputs": [],
   "source": [
    "ls_B_2 = tf.matmul(tf.transpose(train_ft),train_resp)"
   ]
  },
  {
   "cell_type": "code",
   "execution_count": null,
   "metadata": {
    "collapsed": true
   },
   "outputs": [],
   "source": [
    "ls_B = tf.matmul(ls_B_1,ls_B_2)"
   ]
  },
  {
   "cell_type": "code",
   "execution_count": null,
   "metadata": {
    "collapsed": false
   },
   "outputs": [],
   "source": [
    "print(ls_B.eval())\n",
    "print(tf.transpose(W1).eval())"
   ]
  },
  {
   "cell_type": "code",
   "execution_count": null,
   "metadata": {
    "collapsed": false
   },
   "outputs": [],
   "source": [
    "sess.close()"
   ]
  },
  {
   "cell_type": "code",
   "execution_count": null,
   "metadata": {
    "collapsed": true
   },
   "outputs": [],
   "source": []
  }
 ],
 "metadata": {
  "anaconda-cloud": {},
  "kernelspec": {
   "display_name": "Python [py35]",
   "language": "python",
   "name": "Python [py35]"
  },
  "language_info": {
   "codemirror_mode": {
    "name": "ipython",
    "version": 3
   },
   "file_extension": ".py",
   "mimetype": "text/x-python",
   "name": "python",
   "nbconvert_exporter": "python",
   "pygments_lexer": "ipython3",
   "version": "3.5.2"
  }
 },
 "nbformat": 4,
 "nbformat_minor": 0
}
