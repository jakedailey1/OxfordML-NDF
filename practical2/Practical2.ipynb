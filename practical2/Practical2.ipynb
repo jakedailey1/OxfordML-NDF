{
 "cells": [
  {
   "cell_type": "code",
   "execution_count": 1,
   "metadata": {
    "collapsed": true
   },
   "outputs": [],
   "source": [
    "import tensorflow as tf\n",
    "import pandas as pd\n",
    "import numpy as np\n",
    "import tempfile\n",
    "import matplotlib.pyplot as plt"
   ]
  },
  {
   "cell_type": "markdown",
   "metadata": {},
   "source": [
    "-- The below data are from an example in Schaum's Outline:\n",
    "-- Dominick Salvator and Derrick Reagle\n",
    "-- Shaum's Outline of Theory and Problems of Statistics and Economics\n",
    "-- 2nd edition\n",
    "-- McGraw-Hill\n",
    "-- 2002\n",
    "\n",
    "-- The data relate the amount of corn produced, given certain amounts\n",
    "-- of fertilizer and insecticide. See p 157 of the text.\n",
    "\n",
    "-- In this example, we want to be able to predict the amount of\n",
    "-- corn produced, given the amount of fertilizer and insecticide used.\n",
    "-- In other words: fertilizer & insecticide are our two input variables,\n",
    "-- and corn is our target value.\n",
    "\n",
    "--  {corn, fertilizer, insecticide}"
   ]
  },
  {
   "cell_type": "code",
   "execution_count": 2,
   "metadata": {
    "collapsed": true
   },
   "outputs": [],
   "source": [
    "data = [\n",
    "    [40,  6,  4],\n",
    "    [44, 10,  4],\n",
    "    [46, 12,  5],\n",
    "    [48, 14,  7],\n",
    "    [52, 16,  9],\n",
    "    [58, 18, 12],\n",
    "    [60, 22, 14],\n",
    "    [68, 24, 20],\n",
    "    [74, 26, 21],\n",
    "    [80, 32, 24]\n",
    "]"
   ]
  },
  {
   "cell_type": "code",
   "execution_count": 3,
   "metadata": {
    "collapsed": true
   },
   "outputs": [],
   "source": [
    "df = pd.DataFrame(data, columns = ['corn','fertilizer','insecticide'])"
   ]
  },
  {
   "cell_type": "code",
   "execution_count": 4,
   "metadata": {
    "collapsed": true
   },
   "outputs": [],
   "source": [
    "mask = np.random.rand(len(df)) < 0.8\n",
    "df_train = df[mask]\n",
    "df_test = df[~mask]"
   ]
  },
  {
   "cell_type": "code",
   "execution_count": 5,
   "metadata": {
    "collapsed": true
   },
   "outputs": [],
   "source": [
    "RESPONSE = ['corn']\n",
    "CONTINUOUS = ['fertilizer','insecticide']\n",
    "CATEGORICAL = []"
   ]
  },
  {
   "cell_type": "code",
   "execution_count": 6,
   "metadata": {
    "collapsed": true
   },
   "outputs": [],
   "source": [
    "def input_fn(df):\n",
    "    # Creates a dictionary mapping from each continuous feature column name (k) to\n",
    "    # the values of that column stored in a constant Tensor.\n",
    "    continuous_cols = {k: tf.constant(df[k].values,dtype=tf.float32)\n",
    "                     for k in CONTINUOUS}\n",
    "    # Creates a dictionary mapping from each categorical feature column name (k)\n",
    "    # to the values of that column stored in a tf.SparseTensor.\n",
    "    categorical_cols = {k: tf.SparseTensor(\n",
    "      indices=[[i, 0] for i in range(df[k].size)],\n",
    "      values=df[k].values,\n",
    "      shape=[df[k].size, 1])\n",
    "                      for k in CATEGORICAL}\n",
    "    # Merges the two dictionaries into one.\n",
    "    feature_cols = {**continuous_cols, **categorical_cols}\n",
    "    # Converts the label column into a constant Tensor.\n",
    "    response = tf.constant(df[RESPONSE].values,dtype=tf.float32)\n",
    "    # Returns the feature columns and the label.\n",
    "    return feature_cols, response\n",
    "\n",
    "def train_input_fn():\n",
    "    return input_fn(df_train)\n",
    "\n",
    "def eval_input_fn():\n",
    "    return input_fn(df_test)"
   ]
  },
  {
   "cell_type": "markdown",
   "metadata": {},
   "source": [
    "# High-level implementation using tf.contrib:"
   ]
  },
  {
   "cell_type": "code",
   "execution_count": 7,
   "metadata": {
    "collapsed": true
   },
   "outputs": [],
   "source": [
    "fertilizer = tf.contrib.layers.real_valued_column('fertilizer')\n",
    "insecticide = tf.contrib.layers.real_valued_column('insecticide')"
   ]
  },
  {
   "cell_type": "code",
   "execution_count": 8,
   "metadata": {
    "collapsed": false
   },
   "outputs": [
    {
     "name": "stdout",
     "output_type": "stream",
     "text": [
      "INFO:tensorflow:Using default config.\n",
      "INFO:tensorflow:Using config: {'_tf_config': gpu_options {\n",
      "  per_process_gpu_memory_fraction: 1\n",
      "}\n",
      ", '_num_ps_replicas': 0, '_environment': 'local', '_task_id': 0, '_save_summary_steps': 100, '_save_checkpoints_steps': None, '_master': '', '_save_checkpoints_secs': 600, '_task_type': None, '_keep_checkpoint_every_n_hours': 10000, '_tf_random_seed': None, '_evaluation_master': '', '_is_chief': True, '_cluster_spec': <tensorflow.python.training.server_lib.ClusterSpec object at 0x000000EEB479DBE0>, '_keep_checkpoint_max': 5}\n"
     ]
    }
   ],
   "source": [
    "model_dir = tempfile.mkdtemp()\n",
    "m = tf.contrib.learn.LinearRegressor(\n",
    "    feature_columns=[\n",
    "        fertilizer,insecticide\n",
    "    ],\n",
    "    model_dir = model_dir)"
   ]
  },
  {
   "cell_type": "code",
   "execution_count": 9,
   "metadata": {
    "collapsed": false
   },
   "outputs": [
    {
     "name": "stdout",
     "output_type": "stream",
     "text": [
      "WARNING:tensorflow:Rank of input Tensor (1) should be the same as output_rank (2) for column. Will attempt to expand dims. It is highly recommended that you resize your input, as this behavior may change.\n",
      "WARNING:tensorflow:Rank of input Tensor (1) should be the same as output_rank (2) for column. Will attempt to expand dims. It is highly recommended that you resize your input, as this behavior may change.\n",
      "WARNING:tensorflow:From C:\\Users\\DailJa01\\AppData\\Local\\Continuum\\Anaconda3\\envs\\py35\\lib\\site-packages\\tensorflow\\contrib\\learn\\python\\learn\\estimators\\head.py:1362: scalar_summary (from tensorflow.python.ops.logging_ops) is deprecated and will be removed after 2016-11-30.\n",
      "Instructions for updating:\n",
      "Please switch to tf.summary.scalar. Note that tf.summary.scalar uses the node name instead of the tag. This means that TensorFlow will automatically de-duplicate summary names based on the scope they are created in. Also, passing a tensor or list of tags to a scalar summary op is no longer supported.\n",
      "INFO:tensorflow:Create CheckpointSaverHook.\n",
      "INFO:tensorflow:Saving checkpoints for 1 into C:\\Users\\DailJa01\\AppData\\Local\\Temp\\tmpoqon5vte\\model.ckpt.\n",
      "INFO:tensorflow:loss = 3966.86, step = 1\n",
      "INFO:tensorflow:global_step/sec: 1401.15\n",
      "INFO:tensorflow:loss = 115.074, step = 101\n",
      "INFO:tensorflow:Saving checkpoints for 200 into C:\\Users\\DailJa01\\AppData\\Local\\Temp\\tmpoqon5vte\\model.ckpt.\n",
      "INFO:tensorflow:Loss for final step: 110.879.\n"
     ]
    },
    {
     "data": {
      "text/plain": [
       "LinearRegressor(params={'gradient_clip_norm': None, 'feature_columns': [_RealValuedColumn(column_name='fertilizer', dimension=1, default_value=None, dtype=tf.float32, normalizer=None), _RealValuedColumn(column_name='insecticide', dimension=1, default_value=None, dtype=tf.float32, normalizer=None)], 'optimizer': None, 'head': <tensorflow.contrib.learn.python.learn.estimators.head._RegressionHead object at 0x000000EEB31C42E8>, 'joint_weights': False})"
      ]
     },
     "execution_count": 9,
     "metadata": {},
     "output_type": "execute_result"
    }
   ],
   "source": [
    "m.fit(input_fn=train_input_fn,steps = 200.)"
   ]
  },
  {
   "cell_type": "code",
   "execution_count": 10,
   "metadata": {
    "collapsed": false
   },
   "outputs": [
    {
     "name": "stdout",
     "output_type": "stream",
     "text": [
      "WARNING:tensorflow:Rank of input Tensor (1) should be the same as output_rank (2) for column. Will attempt to expand dims. It is highly recommended that you resize your input, as this behavior may change.\n",
      "WARNING:tensorflow:Rank of input Tensor (1) should be the same as output_rank (2) for column. Will attempt to expand dims. It is highly recommended that you resize your input, as this behavior may change.\n",
      "WARNING:tensorflow:From C:\\Users\\DailJa01\\AppData\\Local\\Continuum\\Anaconda3\\envs\\py35\\lib\\site-packages\\tensorflow\\contrib\\learn\\python\\learn\\estimators\\head.py:1362: scalar_summary (from tensorflow.python.ops.logging_ops) is deprecated and will be removed after 2016-11-30.\n",
      "Instructions for updating:\n",
      "Please switch to tf.summary.scalar. Note that tf.summary.scalar uses the node name instead of the tag. This means that TensorFlow will automatically de-duplicate summary names based on the scope they are created in. Also, passing a tensor or list of tags to a scalar summary op is no longer supported.\n",
      "INFO:tensorflow:Starting evaluation at 2017-02-21-07:19:24\n",
      "INFO:tensorflow:Evaluation [1/1]\n",
      "INFO:tensorflow:Finished evaluation at 2017-02-21-07:19:24\n",
      "INFO:tensorflow:Saving dict for global step 200: global_step = 200, loss = 271.301\n",
      "WARNING:tensorflow:Skipping summary for global_step, must be a float or np.float32.\n",
      "{'global_step': 200, 'loss': 271.30148}\n"
     ]
    }
   ],
   "source": [
    "results = m.evaluate(input_fn = eval_input_fn, steps = 1.)\n",
    "print(results)"
   ]
  },
  {
   "cell_type": "code",
   "execution_count": 11,
   "metadata": {
    "collapsed": false
   },
   "outputs": [
    {
     "name": "stdout",
     "output_type": "stream",
     "text": [
      "WARNING:tensorflow:From <ipython-input-11-d18fa51c94f4>:1: LinearRegressor.weights_ (from tensorflow.contrib.learn.python.learn.estimators.linear) is deprecated and will be removed after 2016-10-30.\n",
      "Instructions for updating:\n",
      "This method will be removed after the deprecation date. To inspect variables, use get_variable_names() and get_variable_value().\n",
      "WARNING:tensorflow:From <ipython-input-11-d18fa51c94f4>:2: LinearRegressor.bias_ (from tensorflow.contrib.learn.python.learn.estimators.linear) is deprecated and will be removed after 2016-10-30.\n",
      "Instructions for updating:\n",
      "This method will be removed after the deprecation date. To inspect variables, use get_variable_names() and get_variable_value().\n"
     ]
    }
   ],
   "source": [
    "m_weights = [i[0][0] for i in m.weights_.values()]\n",
    "m_bias = m.bias_[0]"
   ]
  },
  {
   "cell_type": "code",
   "execution_count": 12,
   "metadata": {
    "collapsed": false
   },
   "outputs": [
    {
     "name": "stdout",
     "output_type": "stream",
     "text": [
      "[1.4923713, 1.6224281]\n",
      "2.35155\n"
     ]
    }
   ],
   "source": [
    "print(m_weights)\n",
    "print(m_bias)"
   ]
  },
  {
   "cell_type": "markdown",
   "metadata": {},
   "source": [
    "# Now, digging deeper:"
   ]
  },
  {
   "cell_type": "code",
   "execution_count": 13,
   "metadata": {
    "collapsed": true
   },
   "outputs": [],
   "source": [
    "graph = tf.Graph()"
   ]
  },
  {
   "cell_type": "code",
   "execution_count": 14,
   "metadata": {
    "collapsed": false
   },
   "outputs": [],
   "source": [
    "sess = tf.InteractiveSession(graph=graph)"
   ]
  },
  {
   "cell_type": "code",
   "execution_count": 15,
   "metadata": {
    "collapsed": false
   },
   "outputs": [],
   "source": [
    "train_resp = tf.constant(df_train[['corn']].values,shape=(len(df_train),1),dtype=tf.float32)\n",
    "train_ft = tf.constant(df_train.drop('corn', axis=1).values,dtype=tf.float32)"
   ]
  },
  {
   "cell_type": "code",
   "execution_count": 16,
   "metadata": {
    "collapsed": false
   },
   "outputs": [],
   "source": [
    "test_resp = tf.constant(df_test[['corn']].values,shape=(len(df_test),1),dtype=tf.float32)\n",
    "test_ft = tf.constant(df_test.drop('corn', axis=1).values,dtype=tf.float32)"
   ]
  },
  {
   "cell_type": "markdown",
   "metadata": {},
   "source": [
    "#### Initializing placeholder for response & features; initializing variables for model parameters"
   ]
  },
  {
   "cell_type": "code",
   "execution_count": 17,
   "metadata": {
    "collapsed": true
   },
   "outputs": [],
   "source": [
    "x = tf.placeholder(tf.float32,shape = [None,2])\n",
    "y_ = tf.placeholder(tf.float32,shape = [None,1])"
   ]
  },
  {
   "cell_type": "code",
   "execution_count": 18,
   "metadata": {
    "collapsed": false
   },
   "outputs": [],
   "source": [
    "W1 = tf.Variable(tf.random_normal([1,2]),name='weights', trainable=True)\n",
    "b1 = tf.Variable(tf.zeros([1]),name='bias', trainable=True)"
   ]
  },
  {
   "cell_type": "code",
   "execution_count": 19,
   "metadata": {
    "collapsed": false
   },
   "outputs": [],
   "source": [
    "sess.run(tf.global_variables_initializer())"
   ]
  },
  {
   "cell_type": "code",
   "execution_count": 20,
   "metadata": {
    "collapsed": false
   },
   "outputs": [
    {
     "data": {
      "text/plain": [
       "[array([[-1.34379947,  0.96088052]], dtype=float32),\n",
       " array([ 0.], dtype=float32)]"
      ]
     },
     "execution_count": 20,
     "metadata": {},
     "output_type": "execute_result"
    }
   ],
   "source": [
    "sess.run(tf.trainable_variables())"
   ]
  },
  {
   "cell_type": "markdown",
   "metadata": {},
   "source": [
    "#### Construct Linear Model"
   ]
  },
  {
   "cell_type": "code",
   "execution_count": 21,
   "metadata": {
    "collapsed": false,
    "scrolled": false
   },
   "outputs": [],
   "source": [
    "model_y = tf.add(tf.matmul(x, tf.transpose(W1)), b1)"
   ]
  },
  {
   "cell_type": "markdown",
   "metadata": {},
   "source": [
    "#### Define L2 Loss"
   ]
  },
  {
   "cell_type": "code",
   "execution_count": 22,
   "metadata": {
    "collapsed": false
   },
   "outputs": [],
   "source": [
    "criterion = tf.reduce_sum(tf.pow(model_y - y_, 2))/(2*len(train_resp.eval()))"
   ]
  },
  {
   "cell_type": "markdown",
   "metadata": {},
   "source": [
    "Sanity check..."
   ]
  },
  {
   "cell_type": "code",
   "execution_count": 23,
   "metadata": {
    "collapsed": false,
    "scrolled": true
   },
   "outputs": [
    {
     "data": {
      "text/plain": [
       "2955.687"
      ]
     },
     "execution_count": 23,
     "metadata": {},
     "output_type": "execute_result"
    }
   ],
   "source": [
    "sess.run(criterion,feed_dict = {x:train_ft.eval(),y_:train_resp.eval()})"
   ]
  },
  {
   "cell_type": "markdown",
   "metadata": {},
   "source": [
    "#### Finding the gradient of the loss w.r.t. our parameters"
   ]
  },
  {
   "cell_type": "code",
   "execution_count": 24,
   "metadata": {
    "collapsed": true
   },
   "outputs": [],
   "source": [
    "dl_dB = tf.gradients(criterion, [W1,b1])[0]"
   ]
  },
  {
   "cell_type": "markdown",
   "metadata": {},
   "source": [
    "Sanity check..."
   ]
  },
  {
   "cell_type": "code",
   "execution_count": 25,
   "metadata": {
    "collapsed": false
   },
   "outputs": [
    {
     "data": {
      "text/plain": [
       "array([[-1671.41699219, -1222.45898438]], dtype=float32)"
      ]
     },
     "execution_count": 25,
     "metadata": {},
     "output_type": "execute_result"
    }
   ],
   "source": [
    "sess.run(dl_dB,feed_dict = {x:train_ft.eval(),y_:train_resp.eval()})"
   ]
  },
  {
   "cell_type": "markdown",
   "metadata": {},
   "source": [
    "#### Finding the gradient of the loss w.r.t. the data"
   ]
  },
  {
   "cell_type": "code",
   "execution_count": 26,
   "metadata": {
    "collapsed": false
   },
   "outputs": [],
   "source": [
    "dl_dx = tf.gradients(criterion,x)[0]"
   ]
  },
  {
   "cell_type": "markdown",
   "metadata": {},
   "source": [
    "Sanity check..."
   ]
  },
  {
   "cell_type": "code",
   "execution_count": 27,
   "metadata": {
    "collapsed": false,
    "scrolled": true
   },
   "outputs": [
    {
     "data": {
      "text/plain": [
       "array([[  8.48883533,  -6.06992054],\n",
       "       [ 12.44989395,  -8.90226555],\n",
       "       [ 13.5642786 ,  -9.69910431],\n",
       "       [ 14.61118221, -10.44769001],\n",
       "       [ 15.55612659, -11.12337017],\n",
       "       [ 17.03943443, -12.18400574],\n",
       "       [ 19.18570518, -13.71869087]], dtype=float32)"
      ]
     },
     "execution_count": 27,
     "metadata": {},
     "output_type": "execute_result"
    }
   ],
   "source": [
    "sess.run(dl_dx,feed_dict = {x:train_ft.eval(),y_:train_resp.eval()})"
   ]
  },
  {
   "cell_type": "markdown",
   "metadata": {},
   "source": [
    "#### Adding update procedure to the graph"
   ]
  },
  {
   "cell_type": "code",
   "execution_count": 28,
   "metadata": {
    "collapsed": true
   },
   "outputs": [],
   "source": [
    "learning_rate = 0.001\n",
    "training_iterations = 200"
   ]
  },
  {
   "cell_type": "code",
   "execution_count": 29,
   "metadata": {
    "collapsed": true
   },
   "outputs": [],
   "source": [
    "train_step = tf.train.GradientDescentOptimizer(learning_rate).minimize(criterion)"
   ]
  },
  {
   "cell_type": "markdown",
   "metadata": {},
   "source": [
    "#### Implementing SGD"
   ]
  },
  {
   "cell_type": "code",
   "execution_count": 31,
   "metadata": {
    "collapsed": false
   },
   "outputs": [
    {
     "name": "stdout",
     "output_type": "stream",
     "text": [
      "Epoch: 0201 cost= 65.918319702 W= [[ 1.45390332  1.74798846]] b= [ 0.53814054]\n",
      "Epoch: 0201 cost= 65.205360413 W= [[ 1.48240054  1.76401818]] b= [ 0.53992158]\n",
      "Epoch: 0201 cost= 65.263000488 W= [[ 1.50710845  1.78049016]] b= [ 0.54129422]\n",
      "Epoch: 0201 cost= 65.338523865 W= [[ 1.51143134  1.78324103]] b= [ 0.54149073]\n",
      "Epoch: 0201 cost= 65.131301880 W= [[ 1.49606907  1.77043915]] b= [ 0.54085064]\n",
      "Epoch: 0201 cost= 65.154556274 W= [[ 1.48634553  1.76258552]] b= [ 0.54047668]\n",
      "Epoch: 0201 cost= 66.878883362 W= [[ 1.43877709  1.72690916]] b= [ 0.53899014]\n",
      "Epoch: 0201 cost= 61.393257141 W= [[ 1.70737481  1.39823294]] b= [ 0.74765813]\n",
      "Epoch: 0201 cost= 60.780460358 W= [[ 1.73331821  1.41282606]] b= [ 0.74927962]\n",
      "Epoch: 0201 cost= 60.820243835 W= [[ 1.75671065  1.42842102]] b= [ 0.75057918]\n",
      "Epoch: 0201 cost= 60.848545074 W= [[ 1.75860858  1.42962885]] b= [ 0.75066543]\n",
      "Epoch: 0201 cost= 60.713123322 W= [[ 1.74643767  1.4194864 ]] b= [ 0.75015831]\n",
      "Epoch: 0201 cost= 60.722072601 W= [[ 1.73913264  1.41358614]] b= [ 0.74987733]\n",
      "Epoch: 0201 cost= 62.299926758 W= [[ 1.69191813  1.37817526]] b= [ 0.74840188]\n",
      "Epoch: 0201 cost= 57.707469940 W= [[ 1.93170166  1.08778191]] b= [ 0.94987863]\n",
      "Epoch: 0201 cost= 57.178203583 W= [[ 1.9553653  1.1010927]] b= [ 0.9513576]\n",
      "Epoch: 0201 cost= 57.203613281 W= [[ 1.97757971  1.1159023 ]] b= [ 0.95259172]\n",
      "Epoch: 0201 cost= 57.200370789 W= [[ 1.9773221   1.11573839]] b= [ 0.95258003]\n",
      "Epoch: 0201 cost= 57.116111755 W= [[ 1.96798587  1.1079582 ]] b= [ 0.952191]\n",
      "Epoch: 0201 cost= 57.117115021 W= [[ 1.96283436  1.10379732]] b= [ 0.95199287]\n",
      "Epoch: 0201 cost= 58.564964294 W= [[ 1.91595972  1.0686413 ]] b= [ 0.95052803]\n",
      "Epoch: 0201 cost= 54.690116882 W= [[ 2.13004732  0.81237328]] b= [ 1.14551699]\n",
      "Epoch: 0201 cost= 54.230731964 W= [[ 2.1516757   0.82453918]] b= [ 1.14686871]\n",
      "Epoch: 0201 cost= 54.244457245 W= [[ 2.17283463  0.83864516]] b= [ 1.14804423]\n",
      "Epoch: 0201 cost= 54.221431732 W= [[ 2.17066145  0.83726227]] b= [ 1.1479454]\n",
      "Epoch: 0201 cost= 54.172657013 W= [[ 2.16384172  0.83157927]] b= [ 1.14766121]\n",
      "Epoch: 0201 cost= 54.170330048 W= [[ 2.16060758  0.82896715]] b= [ 1.14753687]\n",
      "Epoch: 0201 cost= 55.502750397 W= [[ 2.1140604   0.79405677]] b= [ 1.14608228]\n"
     ]
    }
   ],
   "source": [
    "for i in range(training_iterations):\n",
    "    for j in range(len(train_ft.eval())):\n",
    "        sess.run(train_step,feed_dict = {x: train_ft.eval()[j,:].reshape(1,2), y_: train_resp.eval()[j,:].reshape(1,1)})\n",
    "    \n",
    "        if (i+1) % 50 == 0:\n",
    "            c = sess.run(criterion, feed_dict = {x: train_ft.eval(), y_:train_resp.eval()})\n",
    "            print(\"Epoch:\", '%04d' % (training_iterations+1), \"cost=\", \"{:.9f}\".format(c),\n",
    "            \"W=\", sess.run(W1), \"b=\", sess.run(b1))"
   ]
  },
  {
   "cell_type": "markdown",
   "metadata": {},
   "source": [
    "#### Implementing Batch GD"
   ]
  },
  {
   "cell_type": "code",
   "execution_count": 32,
   "metadata": {
    "collapsed": false
   },
   "outputs": [],
   "source": [
    "# for i in range(training_iterations):\n",
    "#     for (X, y) in zip(train_ft.eval(),train_resp.eval()):\n",
    "#         sess.run(train_step,feed_dict = [x: X.reshape(1,2), y_: y.reshape(1,1)})\n",
    "    \n",
    "#     if (i+1) % 50 == 0:\n",
    "#         c = sess.run(criterion, feed_dict=[x: train_ft.eval(), y_:train_resp.eval()})\n",
    "#         print(\"Epoch:\", '%04d' % (training_iterations+1), \"cost=\", \"[:.9f}\".format(c),\n",
    "#         \"W=\", sess.run(W1), \"b=\", sess.run(b1))"
   ]
  },
  {
   "cell_type": "code",
   "execution_count": 33,
   "metadata": {
    "collapsed": false
   },
   "outputs": [
    {
     "name": "stdout",
     "output_type": "stream",
     "text": [
      "37.7638\n",
      "6.9759\n",
      "6.14091\n",
      "0.107676\n",
      "0.00395594\n",
      "0.105125\n",
      "4.40539\n"
     ]
    }
   ],
   "source": [
    "for (X, y) in zip(train_ft.eval(),train_resp.eval()):\n",
    "    print(sess.run(criterion,feed_dict = {x: X.reshape(1,2), y_: y.reshape(1,1)}))"
   ]
  },
  {
   "cell_type": "code",
   "execution_count": 34,
   "metadata": {
    "collapsed": false
   },
   "outputs": [
    {
     "data": {
      "text/plain": [
       "array([[ 2.1140604 ,  0.79405677]], dtype=float32)"
      ]
     },
     "execution_count": 34,
     "metadata": {},
     "output_type": "execute_result"
    }
   ],
   "source": [
    "sess.run(W1)"
   ]
  },
  {
   "cell_type": "code",
   "execution_count": 35,
   "metadata": {
    "collapsed": false
   },
   "outputs": [
    {
     "data": {
      "image/png": "[encoded data removed]",
      "text/plain": [
       "<matplotlib.figure.Figure at 0xeeb722bcc0>"
      ]
     },
     "metadata": {},
     "output_type": "display_data"
    }
   ],
   "source": [
    "plt.plot(train_ft.eval()[:,0], train_resp.eval(), 'ro', label='Original data')\n",
    "plt.plot(train_ft.eval()[:,0], sess.run(W1)[:,0] * train_ft.eval()[:,0] + sess.run(b1), label='Fitted line')\n",
    "plt.legend()\n",
    "plt.show()"
   ]
  },
  {
   "cell_type": "code",
   "execution_count": 36,
   "metadata": {
    "collapsed": false
   },
   "outputs": [
    {
     "name": "stdout",
     "output_type": "stream",
     "text": [
      "[[ 25.46291351]\n",
      " [ 30.48509026]\n",
      " [ 36.30132675]] [[ 44.]\n",
      " [ 46.]\n",
      " [ 48.]]\n"
     ]
    }
   ],
   "source": [
    "print(sess.run(model_y, feed_dict = {x: test_ft.eval()}),test_resp.eval())"
   ]
  },
  {
   "cell_type": "code",
   "execution_count": 37,
   "metadata": {
    "collapsed": false
   },
   "outputs": [
    {
     "data": {
      "text/plain": [
       "array([[ 10.,   4.],\n",
       "       [ 12.,   5.],\n",
       "       [ 14.,   7.]], dtype=float32)"
      ]
     },
     "execution_count": 37,
     "metadata": {},
     "output_type": "execute_result"
    }
   ],
   "source": [
    "test_ft.eval()"
   ]
  },
  {
   "cell_type": "code",
   "execution_count": 38,
   "metadata": {
    "collapsed": false
   },
   "outputs": [
    {
     "data": {
      "text/plain": [
       "51.513924"
      ]
     },
     "execution_count": 38,
     "metadata": {},
     "output_type": "execute_result"
    }
   ],
   "source": [
    "sess.run(criterion, feed_dict = {x: test_ft.eval(),y_:test_resp.eval()})"
   ]
  },
  {
   "cell_type": "markdown",
   "metadata": {},
   "source": [
    "#### 2. Some new observations"
   ]
  },
  {
   "cell_type": "code",
   "execution_count": 39,
   "metadata": {
    "collapsed": true
   },
   "outputs": [],
   "source": [
    "new_data = [\n",
    "    [6, 4],\n",
    "    [10, 5],\n",
    "    [14, 8]\n",
    "]"
   ]
  },
  {
   "cell_type": "code",
   "execution_count": 40,
   "metadata": {
    "collapsed": false
   },
   "outputs": [
    {
     "data": {
      "text/plain": [
       "array([[ 17.00667191],\n",
       "       [ 26.25696945],\n",
       "       [ 37.09538269]], dtype=float32)"
      ]
     },
     "execution_count": 40,
     "metadata": {},
     "output_type": "execute_result"
    }
   ],
   "source": [
    "sess.run(model_y, feed_dict = {x: new_data})"
   ]
  },
  {
   "cell_type": "markdown",
   "metadata": {},
   "source": [
    "#### Implementing the least squares solution"
   ]
  },
  {
   "cell_type": "code",
   "execution_count": 41,
   "metadata": {
    "collapsed": true
   },
   "outputs": [],
   "source": [
    "ls_B_1 = tf.matrix_inverse(\n",
    "    tf.matmul(tf.transpose(train_ft),train_ft)\n",
    "    )"
   ]
  },
  {
   "cell_type": "code",
   "execution_count": 42,
   "metadata": {
    "collapsed": true
   },
   "outputs": [],
   "source": [
    "ls_B_2 = tf.matmul(tf.transpose(train_ft),train_resp)"
   ]
  },
  {
   "cell_type": "code",
   "execution_count": 43,
   "metadata": {
    "collapsed": true
   },
   "outputs": [],
   "source": [
    "ls_B = tf.matmul(ls_B_1,ls_B_2)"
   ]
  },
  {
   "cell_type": "code",
   "execution_count": 44,
   "metadata": {
    "collapsed": false
   },
   "outputs": [
    {
     "name": "stdout",
     "output_type": "stream",
     "text": [
      "[[ 3.95877075]\n",
      " [-1.53372192]]\n",
      "[[ 2.1140604 ]\n",
      " [ 0.79405677]]\n"
     ]
    }
   ],
   "source": [
    "print(ls_B.eval())\n",
    "print(tf.transpose(W1).eval())"
   ]
  },
  {
   "cell_type": "code",
   "execution_count": 45,
   "metadata": {
    "collapsed": false
   },
   "outputs": [],
   "source": [
    "sess.close()"
   ]
  },
  {
   "cell_type": "code",
   "execution_count": null,
   "metadata": {
    "collapsed": true
   },
   "outputs": [],
   "source": []
  }
 ],
 "metadata": {
  "anaconda-cloud": {},
  "kernelspec": {
   "display_name": "Python 3",
   "language": "python",
   "name": "python3"
  },
  "language_info": {
   "codemirror_mode": {
    "name": "ipython",
    "version": 3
   },
   "file_extension": ".py",
   "mimetype": "text/x-python",
   "name": "python",
   "nbconvert_exporter": "python",
   "pygments_lexer": "ipython3",
   "version": "3.5.1"
  }
 },
 "nbformat": 4,
 "nbformat_minor": 0
}
